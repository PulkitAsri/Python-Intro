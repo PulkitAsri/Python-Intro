{
 "cells": [
  {
   "cell_type": "markdown",
   "id": "ccdfa223",
   "metadata": {},
   "source": [
    "## AIM WHAT TO DO ?\n"
   ]
  },
  {
   "cell_type": "code",
   "execution_count": 1,
   "id": "6ffa9980",
   "metadata": {},
   "outputs": [],
   "source": [
    "# Import Statements\n",
    "import cv2\n",
    "import pandas as pd\n",
    "import numpy as np\n",
    "import matplotlib.pyplot as plt"
   ]
  },
  {
   "cell_type": "code",
   "execution_count": 2,
   "id": "92f6430b",
   "metadata": {},
   "outputs": [],
   "source": [
    "%matplotlib inline"
   ]
  },
  {
   "cell_type": "code",
   "execution_count": 4,
   "id": "ed09616d",
   "metadata": {},
   "outputs": [],
   "source": [
    "# plt.imread(\"./pokemonImages/result.jpg\")"
   ]
  },
  {
   "cell_type": "code",
   "execution_count": 10,
   "id": "7f7e489e",
   "metadata": {},
   "outputs": [],
   "source": [
    "img1 = plt.imread(\"./pokemonImages/img1.jpg\")\n",
    "img2 = plt.imread(\"./pokemonImages/img2.jpg\")\n",
    "img3 = plt.imread(\"./pokemonImages/img3.jpg\")\n",
    "img4 = plt.imread(\"./pokemonImages/img4.jpg\")\n",
    "img5 = plt.imread(\"./pokemonImages/img5.jpeg\")\n"
   ]
  },
  {
   "cell_type": "code",
   "execution_count": 14,
   "id": "915d596a",
   "metadata": {},
   "outputs": [],
   "source": [
    "img1 = cv2.resize(img1,(200,200))\n",
    "img2 = cv2.resize(img2,(200,200))\n",
    "img3 = cv2.resize(img3,(200,200))\n",
    "img4 = cv2.resize(img4,(200,200))\n",
    "img5 = cv2.resize(img5,(100,100))"
   ]
  },
  {
   "cell_type": "code",
   "execution_count": null,
   "id": "cd6cfe3d",
   "metadata": {},
   "outputs": [],
   "source": [
    "row = "
   ]
  }
 ],
 "metadata": {
  "kernelspec": {
   "display_name": "Python 3",
   "language": "python",
   "name": "python3"
  },
  "language_info": {
   "codemirror_mode": {
    "name": "ipython",
    "version": 3
   },
   "file_extension": ".py",
   "mimetype": "text/x-python",
   "name": "python",
   "nbconvert_exporter": "python",
   "pygments_lexer": "ipython3",
   "version": "3.8.8"
  }
 },
 "nbformat": 4,
 "nbformat_minor": 5
}
