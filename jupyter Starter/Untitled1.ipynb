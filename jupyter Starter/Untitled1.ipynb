{
 "cells": [
  {
   "cell_type": "markdown",
   "id": "86bdf458",
   "metadata": {},
   "source": [
    "# OOPS Objected Oriented Programming"
   ]
  },
  {
   "cell_type": "markdown",
   "id": "620dd508",
   "metadata": {},
   "source": [
    "### -> Abstraction\n",
    "### -> Encapsulation\n",
    "### -> Inheritance\n",
    "### -> Poluymorphism"
   ]
  },
  {
   "cell_type": "code",
   "execution_count": 2,
   "id": "e2a78e78",
   "metadata": {},
   "outputs": [],
   "source": [
    "class Human():\n",
    "    \n",
    "    #Static Vairables\n",
    "    database=[]\n",
    "    population=0\n",
    "    id_sequence=1001\n",
    "    \n",
    "    \n",
    "    \n",
    "    #Construtors\n",
    "    def __init__(self):\n",
    "        print(\"Default Constructor\")\n",
    "    def __init(self, name, age, is_alive=True):\n",
    "        print(\"paramters Constructor,(self<->this)\")\n",
    "        self.name=name\n",
    "        self.age=age\n",
    "        self.is_alive=is_alive\n",
    "        \n",
    "        \n",
    "        \n",
    "        self.id=id_sequence\n",
    "        id_sequence+=1\n",
    "        population+=1\n",
    "        Human.database.append(self)\n",
    "        \n",
    "    # User Defined Functions\n",
    "    def introduce(self):\n",
    "        print(\"Hello\")\n",
    "        \n",
    "        \n",
    "        \n",
    "    #Pseudo Deconstructor\n",
    "    def die(self):\n",
    "        if self.is_alive:\n",
    "            print(\"rip \",self.name)\n",
    "            self.is_alive=False\n",
    "            Human.population-=1\n",
    "        else:\n",
    "            print(\"{} has already Passed Away\".format(self.name))\n",
    "            \n",
    "            \n",
    "    # Dunder/Magic Functions      \n",
    "    def __repr__(self):\n",
    "        \"\"\"\n",
    "        Should Return a string\n",
    "        \"\"\"\n",
    "\n",
    "        return \"[{}, {}, {}, {}]\".format(self.id, self.name, self.age, self.is_alive)\n",
    "        \n",
    "        "
   ]
  },
  {
   "cell_type": "markdown",
   "id": "b11531dd",
   "metadata": {},
   "source": [
    "## Magic/Dunder Function\n",
    "- \\_\\_init\\_\\_ -> constructor\n",
    "- \\_\\_repr\\_\\_ -> while Printing an instance....\n",
    "- \\_\\_str\\_\\_ -> while casting it to a string ...Defining what will Happen\n",
    ".....\n",
    "#### To Find More....run +>  dir(_Instance_)\n"
   ]
  },
  {
   "cell_type": "markdown",
   "id": "4916c9cb",
   "metadata": {},
   "source": [
    "## Child Class"
   ]
  },
  {
   "cell_type": "code",
   "execution_count": null,
   "id": "617c6c3c",
   "metadata": {},
   "outputs": [],
   "source": [
    "class Hitman(Human):\n",
    "    \n",
    "    self.kills=0\n",
    "    self.kill_list=[]\n",
    "    \n",
    "    \n",
    "    \n",
    "    #constructor\n",
    "    def __init__(self, name, age):\n",
    "        # Running the constructor of Human\n",
    "        super().__init__(name, age)\n",
    "        \n",
    "    def kill(self, person):\n",
    "        \n",
    "        if person.is_alive:\n",
    "            print(\"{} is killing {}\".format(self.name, person.name))\n",
    "            person.die()\n",
    "            self.kills+=1\n",
    "        \n",
    "        \n",
    "    "
   ]
  }
 ],
 "metadata": {
  "kernelspec": {
   "display_name": "Python 3",
   "language": "python",
   "name": "python3"
  },
  "language_info": {
   "codemirror_mode": {
    "name": "ipython",
    "version": 3
   },
   "file_extension": ".py",
   "mimetype": "text/x-python",
   "name": "python",
   "nbconvert_exporter": "python",
   "pygments_lexer": "ipython3",
   "version": "3.8.8"
  }
 },
 "nbformat": 4,
 "nbformat_minor": 5
}
