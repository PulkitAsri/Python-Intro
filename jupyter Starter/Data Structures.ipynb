{
 "cells": [
  {
   "cell_type": "markdown",
   "id": "fd087d74",
   "metadata": {},
   "source": [
    "# Data Structures"
   ]
  },
  {
   "cell_type": "markdown",
   "id": "2bdab1f7",
   "metadata": {},
   "source": [
    "## Strings"
   ]
  },
  {
   "cell_type": "code",
   "execution_count": 5,
   "id": "7297ab13",
   "metadata": {},
   "outputs": [],
   "source": [
    "str= \"hey There, Have you me Me !\""
   ]
  },
  {
   "cell_type": "code",
   "execution_count": 6,
   "id": "829792b4",
   "metadata": {},
   "outputs": [
    {
     "name": "stdout",
     "output_type": "stream",
     "text": [
      "M\n"
     ]
    }
   ],
   "source": [
    "print(str[-4])"
   ]
  },
  {
   "cell_type": "code",
   "execution_count": 7,
   "id": "c66bced8",
   "metadata": {},
   "outputs": [
    {
     "name": "stdout",
     "output_type": "stream",
     "text": [
      " Th\n"
     ]
    }
   ],
   "source": [
    "print(str[3:6])"
   ]
  },
  {
   "cell_type": "code",
   "execution_count": 11,
   "id": "2524c0a9",
   "metadata": {},
   "outputs": [
    {
     "name": "stdout",
     "output_type": "stream",
     "text": [
      "\n"
     ]
    }
   ],
   "source": [
    "print(str[-1:6])"
   ]
  },
  {
   "cell_type": "code",
   "execution_count": 9,
   "id": "8cc1d576",
   "metadata": {},
   "outputs": [
    {
     "name": "stdout",
     "output_type": "stream",
     "text": [
      " There, Have you m\n"
     ]
    }
   ],
   "source": [
    "print(str[3:-6])"
   ]
  },
  {
   "cell_type": "code",
   "execution_count": 12,
   "id": "1da34345",
   "metadata": {},
   "outputs": [
    {
     "name": "stdout",
     "output_type": "stream",
     "text": [
      "hey There, Have you me Me !\n"
     ]
    }
   ],
   "source": [
    "print(str[:])"
   ]
  },
  {
   "cell_type": "code",
   "execution_count": 14,
   "id": "b5262819",
   "metadata": {},
   "outputs": [
    {
     "name": "stdout",
     "output_type": "stream",
     "text": [
      "hey there, have you me me !\n",
      "hey There, Have you me Me !\n"
     ]
    }
   ],
   "source": [
    "print(str.lower())\n",
    "print(str)\n",
    "#.lower() | .upper() | .title | .find()-> index{otherwise -1} | .split()-> list(strings)"
   ]
  },
  {
   "cell_type": "code",
   "execution_count": 8,
   "id": "7d917601",
   "metadata": {},
   "outputs": [
    {
     "name": "stdout",
     "output_type": "stream",
     "text": [
      " eeT\n"
     ]
    }
   ],
   "source": [
    "print(str[10:3:-2])"
   ]
  },
  {
   "cell_type": "markdown",
   "id": "211c3a3f",
   "metadata": {},
   "source": [
    "## Lists"
   ]
  },
  {
   "cell_type": "code",
   "execution_count": 9,
   "id": "be6e179a",
   "metadata": {},
   "outputs": [],
   "source": [
    "# array[2] \n",
    "# array .append .insert(index,number) .pop() .reverse() .sort()\n",
    "# list changes by reference .....String returns a copy of the string\n"
   ]
  },
  {
   "cell_type": "code",
   "execution_count": 11,
   "id": "fb088d53",
   "metadata": {},
   "outputs": [
    {
     "name": "stdout",
     "output_type": "stream",
     "text": [
      "[0, 2, 5, 3, 6, 4, 5]\n",
      "[0, 2, 3, 4, 5, 5, 6]\n"
     ]
    }
   ],
   "source": [
    "list=[0,2,5,3,6,4,5]\n",
    "list.sort()\n",
    "print(list)"
   ]
  },
  {
   "cell_type": "code",
   "execution_count": 15,
   "id": "87b81aed",
   "metadata": {},
   "outputs": [
    {
     "name": "stdout",
     "output_type": "stream",
     "text": [
      "[6, 5, 5, 4, 3, 2, 0]\n"
     ]
    }
   ],
   "source": [
    "list.sort(reverse=True)\n",
    "print(list)"
   ]
  },
  {
   "cell_type": "code",
   "execution_count": 17,
   "id": "af2255bd",
   "metadata": {},
   "outputs": [
    {
     "name": "stdout",
     "output_type": "stream",
     "text": [
      "216\n",
      "125\n",
      "125\n",
      "64\n",
      "27\n",
      "8\n",
      "0\n"
     ]
    }
   ],
   "source": [
    "for ele in list:\n",
    "    print(ele**3)"
   ]
  },
  {
   "cell_type": "code",
   "execution_count": 18,
   "id": "07cca633",
   "metadata": {},
   "outputs": [
    {
     "name": "stdout",
     "output_type": "stream",
     "text": [
      "[216, 125, 125, 64, 27, 8, 0]\n"
     ]
    }
   ],
   "source": [
    "newList=[]\n",
    "for ele in list:\n",
    "    newList.append(ele**3)\n",
    "print(newList)"
   ]
  },
  {
   "cell_type": "code",
   "execution_count": 20,
   "id": "cd3cebfc",
   "metadata": {},
   "outputs": [
    {
     "name": "stdout",
     "output_type": "stream",
     "text": [
      "[7776, 3125, 3125, 1024, 243, 32, 0]\n"
     ]
    }
   ],
   "source": [
    "#Short Hand For Above\n",
    "newList=[ele**5 for ele in list]\n",
    "print(newList)\n"
   ]
  },
  {
   "cell_type": "code",
   "execution_count": 22,
   "id": "6a060295",
   "metadata": {},
   "outputs": [
    {
     "name": "stdout",
     "output_type": "stream",
     "text": [
      "{0, 2, 3, 4, 5, 6}\n"
     ]
    }
   ],
   "source": [
    "newSet=set()\n",
    "for ele in list:\n",
    "    newSet.add(ele)\n",
    "print(newSet)"
   ]
  },
  {
   "cell_type": "markdown",
   "id": "b4b812ac",
   "metadata": {},
   "source": [
    "## Tuple"
   ]
  },
  {
   "cell_type": "markdown",
   "id": "533dcbc2",
   "metadata": {},
   "source": [
    "### cannot change any value in it"
   ]
  },
  {
   "cell_type": "markdown",
   "id": "fe58a9a1",
   "metadata": {},
   "source": [
    "## Set"
   ]
  },
  {
   "cell_type": "code",
   "execution_count": 23,
   "id": "ebbd9363",
   "metadata": {},
   "outputs": [
    {
     "name": "stdout",
     "output_type": "stream",
     "text": [
      "{1, 2, 3, 4, 5, 7}\n"
     ]
    }
   ],
   "source": [
    "mySet={3,4,5,7,2,1,1,1,3,2,1}\n",
    "print(mySet)"
   ]
  },
  {
   "cell_type": "code",
   "execution_count": 24,
   "id": "fbb2926c",
   "metadata": {},
   "outputs": [],
   "source": [
    "# .add() .remove()"
   ]
  },
  {
   "cell_type": "code",
   "execution_count": null,
   "id": "118b369a",
   "metadata": {},
   "outputs": [],
   "source": [
    "# set()-> set Constructor ....set(list)\n",
    "# list() -> list COnstructor...a"
   ]
  },
  {
   "cell_type": "markdown",
   "id": "cbb5b61e",
   "metadata": {},
   "source": [
    "## DIctionary"
   ]
  },
  {
   "cell_type": "code",
   "execution_count": null,
   "id": "644d5709",
   "metadata": {},
   "outputs": [],
   "source": [
    "# dictionary[\"key\"]-> if key doesn't exist error \n",
    "# dictionary.get(\"key\") -> null if \n",
    "\n",
    "#.keys .values .items-> list of tuples(key, value)\n"
   ]
  }
 ],
 "metadata": {
  "kernelspec": {
   "display_name": "Python 3",
   "language": "python",
   "name": "python3"
  },
  "language_info": {
   "codemirror_mode": {
    "name": "ipython",
    "version": 3
   },
   "file_extension": ".py",
   "mimetype": "text/x-python",
   "name": "python",
   "nbconvert_exporter": "python",
   "pygments_lexer": "ipython3",
   "version": "3.8.8"
  }
 },
 "nbformat": 4,
 "nbformat_minor": 5
}
