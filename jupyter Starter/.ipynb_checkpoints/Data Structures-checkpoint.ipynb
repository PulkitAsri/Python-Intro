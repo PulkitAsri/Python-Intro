{
 "cells": [
  {
   "cell_type": "markdown",
   "id": "fd087d74",
   "metadata": {},
   "source": [
    "# Data Structures"
   ]
  },
  {
   "cell_type": "markdown",
   "id": "77302744",
   "metadata": {},
   "source": [
    "## Strings"
   ]
  },
  {
   "cell_type": "code",
   "execution_count": 5,
   "id": "7297ab13",
   "metadata": {},
   "outputs": [],
   "source": [
    "str= \"hey There, Have you me Me !\""
   ]
  },
  {
   "cell_type": "code",
   "execution_count": 6,
   "id": "829792b4",
   "metadata": {},
   "outputs": [
    {
     "name": "stdout",
     "output_type": "stream",
     "text": [
      "M\n"
     ]
    }
   ],
   "source": [
    "print(str[-4])"
   ]
  },
  {
   "cell_type": "code",
   "execution_count": 7,
   "id": "c66bced8",
   "metadata": {},
   "outputs": [
    {
     "name": "stdout",
     "output_type": "stream",
     "text": [
      " Th\n"
     ]
    }
   ],
   "source": [
    "print(str[3:6])"
   ]
  },
  {
   "cell_type": "code",
   "execution_count": 11,
   "id": "2524c0a9",
   "metadata": {},
   "outputs": [
    {
     "name": "stdout",
     "output_type": "stream",
     "text": [
      "\n"
     ]
    }
   ],
   "source": [
    "print(str[-1:6])"
   ]
  },
  {
   "cell_type": "code",
   "execution_count": 9,
   "id": "8cc1d576",
   "metadata": {},
   "outputs": [
    {
     "name": "stdout",
     "output_type": "stream",
     "text": [
      " There, Have you m\n"
     ]
    }
   ],
   "source": [
    "print(str[3:-6])"
   ]
  },
  {
   "cell_type": "code",
   "execution_count": 12,
   "id": "1da34345",
   "metadata": {},
   "outputs": [
    {
     "name": "stdout",
     "output_type": "stream",
     "text": [
      "hey There, Have you me Me !\n"
     ]
    }
   ],
   "source": [
    "print(str[:])"
   ]
  },
  {
   "cell_type": "code",
   "execution_count": 14,
   "id": "b5262819",
   "metadata": {},
   "outputs": [
    {
     "name": "stdout",
     "output_type": "stream",
     "text": [
      "hey there, have you me me !\n",
      "hey There, Have you me Me !\n"
     ]
    }
   ],
   "source": [
    "print(str.lower())\n",
    "print(str)\n",
    "#.lower() | .upper() | .title | .find()-> index{otherwise -1} | .split()-> list(strings)"
   ]
  },
  {
   "cell_type": "code",
   "execution_count": 6,
   "id": "7d917601",
   "metadata": {},
   "outputs": [
    {
     "name": "stdout",
     "output_type": "stream",
     "text": [
      "hey There, Have you me Me \n"
     ]
    }
   ],
   "source": [
    "print(str[0:-1:-1])"
   ]
  },
  {
   "cell_type": "code",
   "execution_count": null,
   "id": "8c0c912d",
   "metadata": {},
   "outputs": [],
   "source": []
  }
 ],
 "metadata": {
  "kernelspec": {
   "display_name": "Python 3",
   "language": "python",
   "name": "python3"
  },
  "language_info": {
   "codemirror_mode": {
    "name": "ipython",
    "version": 3
   },
   "file_extension": ".py",
   "mimetype": "text/x-python",
   "name": "python",
   "nbconvert_exporter": "python",
   "pygments_lexer": "ipython3",
   "version": "3.8.8"
  }
 },
 "nbformat": 4,
 "nbformat_minor": 5
}
