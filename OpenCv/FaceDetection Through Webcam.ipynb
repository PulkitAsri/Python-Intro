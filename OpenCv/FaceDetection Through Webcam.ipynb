{
 "cells": [
  {
   "cell_type": "markdown",
   "id": "acae62d1",
   "metadata": {},
   "source": [
    "# Face Detector\n",
    "\n",
    "## Steps \n",
    "### 1) Load RealTime Webcam\n",
    "### 2) Load the Face Detector\n",
    "### 3) Apply Scan to Each frame\n",
    "\n"
   ]
  },
  {
   "cell_type": "code",
   "execution_count": 1,
   "id": "71916725",
   "metadata": {},
   "outputs": [],
   "source": [
    "# Import Statements\n",
    "import cv2\n",
    "import pandas as pd\n",
    "import numpy as np\n",
    "import matplotlib.pyplot as plt"
   ]
  },
  {
   "cell_type": "code",
   "execution_count": 2,
   "id": "dc7611af",
   "metadata": {},
   "outputs": [
    {
     "name": "stdout",
     "output_type": "stream",
     "text": [
      "Using matplotlib backend: MacOSX\n"
     ]
    }
   ],
   "source": [
    "%matplotlib \n",
    "#For Mac Seperate Window Style Running"
   ]
  },
  {
   "cell_type": "code",
   "execution_count": 3,
   "id": "869e3d5e",
   "metadata": {},
   "outputs": [],
   "source": [
    "cam = cv2.VideoCapture(0)\n",
    "#0-> coz primary webcam"
   ]
  },
  {
   "cell_type": "code",
   "execution_count": 4,
   "id": "3886a0d9",
   "metadata": {},
   "outputs": [],
   "source": [
    "## 2) -> Loading Detector\n",
    "detector = cv2.CascadeClassifier(\"./haarcascade_frontalface_default.xml\")\n"
   ]
  },
  {
   "cell_type": "code",
   "execution_count": 4,
   "id": "fc0eff10",
   "metadata": {},
   "outputs": [],
   "source": [
    "## 1) WebCamera Only->\n",
    "# while True:\n",
    "#     success, frame=cam.read()\n",
    "    \n",
    "#     if not success:\n",
    "#         continue\n",
    "    \n",
    "#     # Quit Listener \n",
    "#     keyPress = cv2.waitKey(1) &0xFF\n",
    "#     #1 ms wait, 8 bits for ASCII code\n",
    "#     if keyPress == ord(\"q\"):\n",
    "#         break\n",
    "        \n",
    "#     cv2.imshow(\"Camera\",frame)\n",
    "    \n",
    "\n",
    "        \n",
    "# cam.release()\n",
    "# cv2.destroyAllWindows()\n",
    "    "
   ]
  },
  {
   "cell_type": "code",
   "execution_count": 5,
   "id": "5ef5e86b",
   "metadata": {},
   "outputs": [],
   "source": [
    "## 3) for Each Frame ...Combining Both\n",
    "while True:\n",
    "    success, frame=cam.read()\n",
    "    \n",
    "    if not success:\n",
    "        continue\n",
    "    \n",
    "    # Quit Listener\n",
    "    keyPress = cv2.waitKey(1) &0xFF\n",
    "    #1 ms wait, 8 bits for ASCII code\n",
    "    if keyPress == ord(\"q\"):\n",
    "        break\n",
    "        \n",
    "    ##--------FOR EACH FRAME-----------------------\n",
    "    ## ---------DETECT FACES AND UPDATE FRAME------\n",
    "    \n",
    "    allFaces=detector.detectMultiScale(frame, 1.3, 5)\n",
    "    for face in allFaces:\n",
    "        x,y,w,h =face\n",
    "        \n",
    "        frame= cv2.blur(frame, (x,y),(x+w,y+h) , (0,0,255) , 2)\n",
    "    \n",
    "    ##---------------------------------------------\n",
    "    cv2.imshow(\"Camera\",frame)\n",
    "    \n",
    "    \n",
    "        \n",
    "\n",
    "        \n",
    "cam.release()\n",
    "cv2.destroyAllWindows()"
   ]
  },
  {
   "cell_type": "markdown",
   "id": "7458af18",
   "metadata": {},
   "source": [
    "### Having Fun From This Point On\n",
    "\n"
   ]
  },
  {
   "cell_type": "code",
   "execution_count": 5,
   "id": "daec28ac",
   "metadata": {},
   "outputs": [],
   "source": [
    "\n",
    "## Trying to Blur One Face\n",
    "\n",
    "def blurOutsideRectangle(img, cood):\n",
    "    \n",
    "    x,y,w,h = cood\n",
    "    shp=img.shape\n",
    "    tempImage=np.copy(img)\n",
    "    \n",
    "    \n",
    "    ## This Algo Is Only Working for One Person/face\n",
    "    \n",
    "    ROI = tempImage[0:shp[0], 0:x]\n",
    "    blur = cv2.GaussianBlur(ROI, (101,101), 0) \n",
    "    tempImage[0:shp[0], 0:x] = blur\n",
    "    \n",
    "    ROI = tempImage[0:shp[0], x+w:shp[1]]\n",
    "    blur = cv2.GaussianBlur(ROI, (101,101), 0) \n",
    "    tempImage[0:shp[0], x+w:shp[1]] = blur\n",
    "    \n",
    "    ROI = tempImage[0:y, x:x+w]\n",
    "    blur = cv2.GaussianBlur(ROI, (101,101), 0) \n",
    "    tempImage[0:y, x:x+w] = blur\n",
    "    \n",
    "    ROI = tempImage[y+h:shp[0], x:x+w]\n",
    "    blur = cv2.GaussianBlur(ROI, (101,101), 0) \n",
    "    tempImage[y+h:shp[0], x:x+w] = blur\n",
    "    \n",
    "    \n",
    "    #cv2.imshow(\"\",blur)\n",
    "    return tempImage\n",
    "    \n",
    "\n",
    "    \n",
    "    "
   ]
  },
  {
   "cell_type": "code",
   "execution_count": 7,
   "id": "108f2354",
   "metadata": {},
   "outputs": [],
   "source": [
    "#Testing the function\n",
    "img= plt.imread(\"./GroupPhoto.jpg\")\n",
    "\n",
    "detector=cv2.CascadeClassifier(\"./haarcascade_frontalface_default.xml\")\n",
    "all_faces=detector.detectMultiScale(img, 1.5, 10)\n",
    "\n",
    "    \n",
    "    \n",
    "# x,y,w,h =all_faces[0]\n",
    "# img= cv2.rectangle(img, (x,y), (x+w,y+h), (255,0,0),40)\n",
    "\n",
    "# --------Testing One Face--------\n",
    "img = blurOutsideRectangle(img,all_faces[0])\n",
    "\n",
    "#--------All Faces----------\n",
    "# for face in all_faces:\n",
    "#     img = blurOutsideRectangle(img,face)\n",
    "\n",
    "##NOTE: ALL FACES NOT WORKING COZ \n",
    "##.     IT BLUR THE other faces WHILE BLURING other parts of image\n",
    "\n",
    "\n",
    "\n",
    "\n"
   ]
  },
  {
   "cell_type": "code",
   "execution_count": 8,
   "id": "7c9ed7ec",
   "metadata": {},
   "outputs": [
    {
     "data": {
      "text/plain": [
       "<matplotlib.image.AxesImage at 0x7f954010f100>"
      ]
     },
     "execution_count": 8,
     "metadata": {},
     "output_type": "execute_result"
    }
   ],
   "source": [
    "plt.imshow(img)\n"
   ]
  },
  {
   "cell_type": "code",
   "execution_count": null,
   "id": "bd895e4c",
   "metadata": {},
   "outputs": [],
   "source": [
    "while True:\n",
    "    success, frame=cam.read()\n",
    "    \n",
    "    if not success:\n",
    "        continue\n",
    "    \n",
    "    # Quit Listener\n",
    "    keyPress = cv2.waitKey(1) &0xFF\n",
    "    #1 ms wait, 8 bits for ASCII code\n",
    "    if keyPress == ord(\"q\"):\n",
    "        break\n",
    "        \n",
    "    ##--------FOR EACH FRAME-----------------------\n",
    "    ## ---------DETECT FACES AND UPDATE FRAME------\n",
    "    \n",
    "    all_faces = detector.detectMultiScale(frame, 1.2, 5)\n",
    "    ## Only For One Face Boquet Effect\n",
    "    if all_faces is None:\n",
    "        if all_faces.shape[0]!=0:\n",
    "            frame = blurOutsideRectangle(frame,all_faces[0])\n",
    "    \n",
    "    ##---------------------------------------------\n",
    "    cv2.imshow(\"Camera\",frame)\n",
    "    \n",
    "    \n",
    "        \n",
    "\n",
    "        \n",
    "cam.release()\n",
    "cv2.destroyAllWindows()"
   ]
  },
  {
   "cell_type": "code",
   "execution_count": 69,
   "id": "68554e8c",
   "metadata": {},
   "outputs": [
    {
     "name": "stdout",
     "output_type": "stream",
     "text": [
      "Using matplotlib backend: MacOSX\n"
     ]
    }
   ],
   "source": [
    "%matplotlib "
   ]
  }
 ],
 "metadata": {
  "kernelspec": {
   "display_name": "Python 3",
   "language": "python",
   "name": "python3"
  },
  "language_info": {
   "codemirror_mode": {
    "name": "ipython",
    "version": 3
   },
   "file_extension": ".py",
   "mimetype": "text/x-python",
   "name": "python",
   "nbconvert_exporter": "python",
   "pygments_lexer": "ipython3",
   "version": "3.8.8"
  }
 },
 "nbformat": 4,
 "nbformat_minor": 5
}
