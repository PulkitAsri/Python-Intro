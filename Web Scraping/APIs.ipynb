{
 "cells": [
  {
   "cell_type": "markdown",
   "id": "6b5dcc8a",
   "metadata": {},
   "source": [
    "# Web APIS"
   ]
  },
  {
   "cell_type": "code",
   "execution_count": 3,
   "id": "5b0ebfb0",
   "metadata": {},
   "outputs": [],
   "source": [
    "# !pip install requests"
   ]
  },
  {
   "cell_type": "code",
   "execution_count": 11,
   "id": "541332ce",
   "metadata": {},
   "outputs": [],
   "source": [
    "import requests\n",
    "import json"
   ]
  },
  {
   "cell_type": "markdown",
   "id": "0dee9027",
   "metadata": {},
   "source": [
    "## get Data From API"
   ]
  },
  {
   "cell_type": "code",
   "execution_count": 6,
   "id": "d8386c1c",
   "metadata": {},
   "outputs": [],
   "source": [
    "url=\"https://www.boredapi.com/api/activity\""
   ]
  },
  {
   "cell_type": "code",
   "execution_count": 9,
   "id": "cb1ccbf0",
   "metadata": {},
   "outputs": [],
   "source": [
    "res= requests.get(url)"
   ]
  },
  {
   "cell_type": "code",
   "execution_count": 10,
   "id": "211695fe",
   "metadata": {},
   "outputs": [
    {
     "data": {
      "text/plain": [
       "'{\"activity\":\"Learn a new programming language\",\"type\":\"education\",\"participants\":1,\"price\":0.1,\"link\":\"\",\"key\":\"5881028\",\"accessibility\":0.25}'"
      ]
     },
     "execution_count": 10,
     "metadata": {},
     "output_type": "execute_result"
    }
   ],
   "source": [
    "res.text"
   ]
  },
  {
   "cell_type": "code",
   "execution_count": 12,
   "id": "1d7f5c46",
   "metadata": {},
   "outputs": [],
   "source": [
    "activity = json.loads(res.text)"
   ]
  },
  {
   "cell_type": "code",
   "execution_count": 13,
   "id": "cc48c7d6",
   "metadata": {},
   "outputs": [
    {
     "data": {
      "text/plain": [
       "{'activity': 'Learn a new programming language',\n",
       " 'type': 'education',\n",
       " 'participants': 1,\n",
       " 'price': 0.1,\n",
       " 'link': '',\n",
       " 'key': '5881028',\n",
       " 'accessibility': 0.25}"
      ]
     },
     "execution_count": 13,
     "metadata": {},
     "output_type": "execute_result"
    }
   ],
   "source": [
    "activity[]"
   ]
  },
  {
   "cell_type": "code",
   "execution_count": null,
   "id": "98708f85",
   "metadata": {},
   "outputs": [],
   "source": []
  }
 ],
 "metadata": {
  "kernelspec": {
   "display_name": "Python 3",
   "language": "python",
   "name": "python3"
  },
  "language_info": {
   "codemirror_mode": {
    "name": "ipython",
    "version": 3
   },
   "file_extension": ".py",
   "mimetype": "text/x-python",
   "name": "python",
   "nbconvert_exporter": "python",
   "pygments_lexer": "ipython3",
   "version": "3.8.8"
  }
 },
 "nbformat": 4,
 "nbformat_minor": 5
}
