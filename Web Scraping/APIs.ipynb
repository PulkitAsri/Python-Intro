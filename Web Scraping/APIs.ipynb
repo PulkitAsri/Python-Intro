{
 "cells": [
  {
   "cell_type": "markdown",
   "id": "3ed97514",
   "metadata": {},
   "source": [
    "# Web APIS"
   ]
  },
  {
   "cell_type": "code",
   "execution_count": 3,
   "id": "18f271f4",
   "metadata": {},
   "outputs": [],
   "source": [
    "# !pip install requests"
   ]
  },
  {
   "cell_type": "code",
   "execution_count": 11,
   "id": "41af9cec",
   "metadata": {},
   "outputs": [],
   "source": [
    "import requests\n",
    "import json"
   ]
  },
  {
   "cell_type": "markdown",
   "id": "36f0d220",
   "metadata": {},
   "source": [
    "## get Data From API"
   ]
  },
  {
   "cell_type": "code",
   "execution_count": 6,
   "id": "9c9bcc7f",
   "metadata": {},
   "outputs": [],
   "source": [
    "url=\"https://www.boredapi.com/api/activity\""
   ]
  },
  {
   "cell_type": "code",
   "execution_count": 9,
   "id": "fc6ef4b2",
   "metadata": {},
   "outputs": [],
   "source": [
    "res= requests.get(url)"
   ]
  },
  {
   "cell_type": "code",
   "execution_count": 10,
   "id": "a6f1e3eb",
   "metadata": {},
   "outputs": [
    {
     "data": {
      "text/plain": [
       "'{\"activity\":\"Learn a new programming language\",\"type\":\"education\",\"participants\":1,\"price\":0.1,\"link\":\"\",\"key\":\"5881028\",\"accessibility\":0.25}'"
      ]
     },
     "execution_count": 10,
     "metadata": {},
     "output_type": "execute_result"
    }
   ],
   "source": [
    "res.text"
   ]
  },
  {
   "cell_type": "code",
   "execution_count": 12,
   "id": "902e1f2a",
   "metadata": {},
   "outputs": [],
   "source": [
    "activity = json.loads(res.text)"
   ]
  },
  {
   "cell_type": "code",
   "execution_count": 13,
   "id": "aeb532dc",
   "metadata": {},
   "outputs": [
    {
     "data": {
      "text/plain": [
       "{'activity': 'Learn a new programming language',\n",
       " 'type': 'education',\n",
       " 'participants': 1,\n",
       " 'price': 0.1,\n",
       " 'link': '',\n",
       " 'key': '5881028',\n",
       " 'accessibility': 0.25}"
      ]
     },
     "execution_count": 13,
     "metadata": {},
     "output_type": "execute_result"
    }
   ],
   "source": [
    "activity[\"activity\"]"
   ]
  },
  {
   "cell_type": "markdown",
   "id": "58294b09",
   "metadata": {},
   "source": [
    "## Another api "
   ]
  },
  {
   "cell_type": "markdown",
   "id": "49aa7cf3",
   "metadata": {},
   "source": [
    "### get Public ip Address"
   ]
  },
  {
   "cell_type": "code",
   "execution_count": 14,
   "id": "e92de39e",
   "metadata": {},
   "outputs": [],
   "source": [
    "url=\"https://api.ipify.org\""
   ]
  },
  {
   "cell_type": "code",
   "execution_count": 15,
   "id": "72ce0a77",
   "metadata": {},
   "outputs": [],
   "source": [
    "res =requests.get(url)"
   ]
  },
  {
   "cell_type": "code",
   "execution_count": 16,
   "id": "e7babf79",
   "metadata": {},
   "outputs": [
    {
     "data": {
      "text/plain": [
       "200"
      ]
     },
     "execution_count": 16,
     "metadata": {},
     "output_type": "execute_result"
    }
   ],
   "source": [
    "res.status_code"
   ]
  },
  {
   "cell_type": "code",
   "execution_count": 17,
   "id": "a8f5f39c",
   "metadata": {},
   "outputs": [
    {
     "data": {
      "text/plain": [
       "'49.36.184.152'"
      ]
     },
     "execution_count": 17,
     "metadata": {},
     "output_type": "execute_result"
    }
   ],
   "source": [
    "res.text\n"
   ]
  },
  {
   "cell_type": "code",
   "execution_count": 20,
   "id": "3ec6362b",
   "metadata": {},
   "outputs": [],
   "source": [
    "url = \"http://universities.hipolabs.com/search?country=India\"\n"
   ]
  },
  {
   "cell_type": "code",
   "execution_count": 21,
   "id": "19277c72",
   "metadata": {},
   "outputs": [],
   "source": [
    "res =requests.get(url)"
   ]
  },
  {
   "cell_type": "code",
   "execution_count": 22,
   "id": "9053a34e",
   "metadata": {},
   "outputs": [
    {
     "data": {
      "text/plain": [
       "200"
      ]
     },
     "execution_count": 22,
     "metadata": {},
     "output_type": "execute_result"
    }
   ],
   "source": [
    "res.status_code"
   ]
  },
  {
   "cell_type": "code",
   "execution_count": 24,
   "id": "7d645189",
   "metadata": {},
   "outputs": [],
   "source": [
    "indian_univs = json.loads(res.text)"
   ]
  },
  {
   "cell_type": "code",
   "execution_count": 28,
   "id": "a7cf836a",
   "metadata": {},
   "outputs": [
    {
     "data": {
      "text/plain": [
       "802"
      ]
     },
     "execution_count": 28,
     "metadata": {},
     "output_type": "execute_result"
    }
   ],
   "source": [
    "len(indian_univs)"
   ]
  },
  {
   "cell_type": "code",
   "execution_count": 29,
   "id": "45800392",
   "metadata": {},
   "outputs": [
    {
     "data": {
      "text/plain": [
       "{'state-province': 'Punjab',\n",
       " 'country': 'India',\n",
       " 'web_pages': ['http://www.davietjal.org/'],\n",
       " 'name': 'DAV Institute of Engineering & Technology',\n",
       " 'alpha_two_code': 'IN',\n",
       " 'domains': ['davietjal.org']}"
      ]
     },
     "execution_count": 29,
     "metadata": {},
     "output_type": "execute_result"
    }
   ],
   "source": [
    "indian_univs[0]"
   ]
  },
  {
   "cell_type": "code",
   "execution_count": null,
   "id": "66bb3c7d",
   "metadata": {},
   "outputs": [],
   "source": []
  }
 ],
 "metadata": {
  "kernelspec": {
   "display_name": "Python 3",
   "language": "python",
   "name": "python3"
  },
  "language_info": {
   "codemirror_mode": {
    "name": "ipython",
    "version": 3
   },
   "file_extension": ".py",
   "mimetype": "text/x-python",
   "name": "python",
   "nbconvert_exporter": "python",
   "pygments_lexer": "ipython3",
   "version": "3.8.8"
  }
 },
 "nbformat": 4,
 "nbformat_minor": 5
}
