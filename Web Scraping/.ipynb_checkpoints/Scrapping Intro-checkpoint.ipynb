{
 "cells": [
  {
   "cell_type": "markdown",
   "id": "1d42e5b6",
   "metadata": {},
   "source": [
    "#  Scraping an image"
   ]
  },
  {
   "cell_type": "code",
   "execution_count": 3,
   "id": "94f45348",
   "metadata": {},
   "outputs": [],
   "source": [
    "import requests"
   ]
  },
  {
   "cell_type": "code",
   "execution_count": 2,
   "id": "ad6cf422",
   "metadata": {},
   "outputs": [],
   "source": [
    "img_url=\"https://cdn.pixabay.com/photo/2015/04/23/22/00/tree-736885__480.jpg\""
   ]
  },
  {
   "cell_type": "code",
   "execution_count": 4,
   "id": "bc3b2078",
   "metadata": {},
   "outputs": [],
   "source": [
    "res=requests.get(img_url)"
   ]
  },
  {
   "cell_type": "code",
   "execution_count": 5,
   "id": "34452627",
   "metadata": {},
   "outputs": [
    {
     "data": {
      "text/plain": [
       "200"
      ]
     },
     "execution_count": 5,
     "metadata": {},
     "output_type": "execute_result"
    }
   ],
   "source": [
    "res.status_code"
   ]
  },
  {
   "cell_type": "code",
   "execution_count": 12,
   "id": "e5508c77",
   "metadata": {},
   "outputs": [],
   "source": [
    "binaryImage= res.content"
   ]
  },
  {
   "cell_type": "code",
   "execution_count": 13,
   "id": "c9c9f5cf",
   "metadata": {},
   "outputs": [],
   "source": [
    "with open(\"dog.jpg\",\"wb\") as f:\n",
    "    f.write(binaryImage)"
   ]
  },
  {
   "cell_type": "markdown",
   "id": "90763214",
   "metadata": {},
   "source": [
    "# Beautiful Soup - Web scrapping Lib\n"
   ]
  },
  {
   "cell_type": "code",
   "execution_count": 14,
   "id": "a61f1152",
   "metadata": {},
   "outputs": [
    {
     "name": "stdout",
     "output_type": "stream",
     "text": [
      "Collecting bs4\n",
      "  Downloading bs4-0.0.1.tar.gz (1.1 kB)\n",
      "Requirement already satisfied: beautifulsoup4 in /Users/pulkitasri/opt/anaconda3/lib/python3.8/site-packages (from bs4) (4.9.3)\n",
      "Requirement already satisfied: soupsieve>1.2 in /Users/pulkitasri/opt/anaconda3/lib/python3.8/site-packages (from beautifulsoup4->bs4) (2.2.1)\n",
      "Building wheels for collected packages: bs4\n",
      "  Building wheel for bs4 (setup.py) ... \u001b[?25ldone\n",
      "\u001b[?25h  Created wheel for bs4: filename=bs4-0.0.1-py3-none-any.whl size=1273 sha256=b903ec05b1a6a2135afc52931ef48b6a26c279db7d45bc23f26ea53342756c7d\n",
      "  Stored in directory: /Users/pulkitasri/Library/Caches/pip/wheels/75/78/21/68b124549c9bdc94f822c02fb9aa3578a669843f9767776bca\n",
      "Successfully built bs4\n",
      "Installing collected packages: bs4\n",
      "Successfully installed bs4-0.0.1\n"
     ]
    }
   ],
   "source": [
    "!pip install bs4"
   ]
  },
  {
   "cell_type": "code",
   "execution_count": 15,
   "id": "404ff1d4",
   "metadata": {},
   "outputs": [],
   "source": [
    "import bs4\n",
    "import requests"
   ]
  },
  {
   "cell_type": "code",
   "execution_count": 16,
   "id": "71d68b71",
   "metadata": {},
   "outputs": [],
   "source": [
    "#Search->. List of countries and there capital \n",
    "#https://en.wikipedia.org/wiki/List_of_countries_and_dependencies_and_their_capitals_in_native_languages\n",
    "\n",
    "url=\"https://en.wikipedia.org/wiki/List_of_countries_and_dependencies_and_their_capitals_in_native_languages\""
   ]
  },
  {
   "cell_type": "code",
   "execution_count": 17,
   "id": "d542ae8a",
   "metadata": {},
   "outputs": [],
   "source": [
    "res=requests.get(url)"
   ]
  },
  {
   "cell_type": "code",
   "execution_count": 21,
   "id": "7034e5bc",
   "metadata": {},
   "outputs": [],
   "source": [
    "html_content=res.content\n",
    "#the full HTML page"
   ]
  },
  {
   "cell_type": "code",
   "execution_count": 24,
   "id": "4f52d796",
   "metadata": {},
   "outputs": [],
   "source": [
    "soup= bs4.BeautifulSoup(html_content)"
   ]
  },
  {
   "cell_type": "code",
   "execution_count": 27,
   "id": "d3e87393",
   "metadata": {},
   "outputs": [
    {
     "data": {
      "text/plain": [
       "'List of countries and dependencies and their capitals in native languages'"
      ]
     },
     "execution_count": 27,
     "metadata": {},
     "output_type": "execute_result"
    }
   ],
   "source": [
    "soup.h1.text"
   ]
  },
  {
   "cell_type": "code",
   "execution_count": 34,
   "id": "09e21d67",
   "metadata": {},
   "outputs": [],
   "source": [
    "allTables= soup.find_all(\"table\", attrs={\"class\":\"wikitable\"})"
   ]
  },
  {
   "cell_type": "code",
   "execution_count": 35,
   "id": "fcf7211b",
   "metadata": {},
   "outputs": [
    {
     "data": {
      "text/plain": [
       "25"
      ]
     },
     "execution_count": 35,
     "metadata": {},
     "output_type": "execute_result"
    }
   ],
   "source": [
    "len(allTables)"
   ]
  },
  {
   "cell_type": "code",
   "execution_count": 43,
   "id": "9c34f6e9",
   "metadata": {},
   "outputs": [],
   "source": [
    "DTable=allTables[3].find_all(\"tr\")[1:]\n",
    "#Skip 1 FOR HEADING.....rest are countries"
   ]
  },
  {
   "cell_type": "code",
   "execution_count": 45,
   "id": "1871d1e8",
   "metadata": {},
   "outputs": [
    {
     "data": {
      "text/plain": [
       "4"
      ]
     },
     "execution_count": 45,
     "metadata": {},
     "output_type": "execute_result"
    }
   ],
   "source": [
    "len(DTable)\n"
   ]
  },
  {
   "cell_type": "code",
   "execution_count": 49,
   "id": "4a8d3250",
   "metadata": {},
   "outputs": [],
   "source": [
    "all_tds= DTable[0].find_all(\"td\")"
   ]
  },
  {
   "cell_type": "code",
   "execution_count": 53,
   "id": "088c0f6d",
   "metadata": {},
   "outputs": [
    {
     "data": {
      "text/plain": [
       "'//upload.wikimedia.org/wikipedia/commons/thumb/9/9c/Flag_of_Denmark.svg/20px-Flag_of_Denmark.svg.png'"
      ]
     },
     "execution_count": 53,
     "metadata": {},
     "output_type": "execute_result"
    }
   ],
   "source": [
    "all_tds[0].img.attrs[\"src\"]"
   ]
  },
  {
   "cell_type": "code",
   "execution_count": 54,
   "id": "93599a8f",
   "metadata": {},
   "outputs": [
    {
     "data": {
      "text/plain": [
       "bs4.element.Tag"
      ]
     },
     "execution_count": 54,
     "metadata": {},
     "output_type": "execute_result"
    }
   ],
   "source": [
    "type(all_tds[0].img)"
   ]
  },
  {
   "cell_type": "code",
   "execution_count": 57,
   "id": "08b0e627",
   "metadata": {},
   "outputs": [],
   "source": [
    "country= all_tds[0].text\n",
    "capital= all_tds[1].text\n",
    "language= all_tds[-1].text\n"
   ]
  },
  {
   "cell_type": "code",
   "execution_count": 58,
   "id": "7a4c94f6",
   "metadata": {},
   "outputs": [
    {
     "name": "stdout",
     "output_type": "stream",
     "text": [
      " Denmark Copenhagen Danish\n",
      "\n"
     ]
    }
   ],
   "source": [
    "print(country,capital,language)"
   ]
  },
  {
   "cell_type": "markdown",
   "id": "c3a9f46c",
   "metadata": {},
   "source": [
    "### Getting Info About One Table"
   ]
  },
  {
   "cell_type": "code",
   "execution_count": 61,
   "id": "0994f234",
   "metadata": {},
   "outputs": [
    {
     "name": "stdout",
     "output_type": "stream",
     "text": [
      " Denmark === Copenhagen === Danish\n",
      "\n",
      " Djibouti === Djibouti === Arabic(Arabic script)FrenchSomaliAfar\n",
      "\n",
      " Dominica === Roseau === English\n",
      "\n",
      " Dominican Republic === Santo Domingo === Spanish\n",
      "\n"
     ]
    }
   ],
   "source": [
    "for tr in DTable:\n",
    "    all_tds= tr.find_all(\"td\")\n",
    "    \n",
    "    country = all_tds[0].text\n",
    "    capital = all_tds[1].text\n",
    "    language= all_tds[-1].text\n",
    "    \n",
    "    print(country,capital,language,sep=\" === \")\n",
    "    \n",
    "    \n",
    "    "
   ]
  },
  {
   "cell_type": "markdown",
   "id": "ede5f313",
   "metadata": {},
   "source": [
    "### Getting All Data  From All tables\n"
   ]
  },
  {
   "cell_type": "code",
   "execution_count": 65,
   "id": "6760d981",
   "metadata": {},
   "outputs": [
    {
     "name": "stdout",
     "output_type": "stream",
     "text": [
      "Afghanistan === Kabul === Pashto/Dari(Arabic script)\n",
      "\n",
      " Albania === Tirana === Albanian\n",
      "\n",
      " Algeria === Algiers === Berber language(Tifinagh script)Arabic(Arabic script)\n",
      "\n",
      " American Samoa[1] === Pago Pago === SamoanEnglish\n",
      "\n",
      " Andorra === Andorra la Vella === Catalan\n",
      "\n",
      " Angola === Luanda === Portuguese Kongo\n",
      "\n",
      " Anguilla[2] === The Valley === English\n",
      "\n",
      " Antigua and Barbuda === Saint John's === English\n",
      "\n",
      " Argentina === Buenos Aires === Spanish\n",
      "\n",
      " Armenia === Yerevan === Armenian(Armenian alphabet)\n",
      "\n",
      " Aruba[3] === Oranjestad === Dutch, Papiamento\n",
      "\n",
      " Australia === Canberra === English/ Aboriginal native languages\n",
      "\n",
      " Austria === Vienna === German\n",
      "\n",
      " Åland Islands[4] === Mariehamn === SwedishFinnish\n",
      "\n",
      " Azerbaijan === Baku === Azerbaijani\n",
      "\n",
      " The Bahamas === Nassau === English\n",
      "\n",
      " Bahrain === Manama === Arabic(Arabic script)\n",
      "\n",
      " Bangladesh === Dhaka === Bengali(Bengali script)\n",
      "\n",
      " Barbados === Bridgetown === English\n",
      "\n",
      " Belarus === Minsk === Belarusian(Cyrillic script)Russian(Cyrillic script)\n",
      "\n",
      " Belgium === Brussels === DutchFrenchGerman\n",
      "\n",
      " Belize === Belmopan === English\n",
      "\n",
      " Benin === Porto-Novo === French\n",
      "\n",
      " Bermuda[2] === Hamilton === English\n",
      "\n",
      " Bhutan === Thimphu === Dzongkha(Tibetan alphabet)\n",
      "\n",
      " Bolivia === La Paz === SpanishQuechuaAymaraGuaraní\n",
      "\n",
      " Bosnia and Herzegovina === Sarajevo === Bosnian, Croatian(Latin script), Serbian(Cyrillic script)\n",
      "\n",
      " Botswana === Gaborone === English, Tswana\n",
      "\n",
      " Brazil === Brasília === Portuguese\n",
      "\n",
      " British Virgin Islands[2] === Road Town === English\n",
      "\n",
      " Brunei === Bandar Seri Begawan === Malay(Jawi script)\n",
      "\n",
      " Bulgaria === Sofia === Bulgarian(Cyrillic script)\n",
      "\n",
      " Burkina Faso === Ouagadougou === French\n",
      "\n",
      " Burundi === Gitega === Kirundi  French\n",
      "\n",
      " Cambodia === Phnom Penh === Khmer(Khmer script)\n",
      "\n",
      " Cameroon === Yaoundé === FrenchEnglish\n",
      "\n",
      " Canada === Ottawa === English, French\n",
      "\n",
      " Cape Verde === Praia === Portuguese\n",
      "\n",
      " Cayman Islands[2] === George Town === English\n",
      "\n",
      " Central African Republic === Bangui === FrenchSango\n",
      "\n",
      " Chad === N'Djamena === FrenchArabic(Arabic script)\n",
      "\n",
      " Chile === Santiago === Spanish\n",
      "\n",
      " China (People's Republic of) === Beijing === Mandarin Chinese(Chinese characters)\n",
      "\n",
      " Christmas Island[6] === Flying Fish Cove === English\n",
      "\n",
      " Cocos Islands[6] === West Island === English\n",
      "\n",
      " Colombia === Bogotá === Spanish\n",
      "\n",
      " Comoros === Moroni === ShikomorArabic(Arabic script)French\n",
      "\n",
      " Republic of the Congo === Brazzaville === FrenchKongo Lingala\n",
      "\n",
      " Democratic Republic of the Congo\n",
      " === Kinshasa === French Kongo Lingala Swahili\n",
      "\n",
      " Cook Islands[7] === Avarua === English  Cook Islands Māori\n",
      "\n",
      " Costa Rica === San José === Spanish\n",
      "\n",
      " Côte d'Ivoire(formerly Ivory Coast) === Yamoussoukro === French\n",
      "\n",
      " Croatia === Zagreb === Croatian\n",
      "\n",
      " Cuba === Havana === Spanish\n",
      "\n",
      " Curaçao[3] === Willemstad === DutchPapiamentoEnglish\n",
      "\n",
      " Cyprus === Nicosia === Greek(Greek alphabet)Turkish\n",
      "\n",
      " Czech Republic === Prague === Czech\n",
      "\n",
      " Denmark === Copenhagen === Danish\n",
      "\n",
      " Djibouti === Djibouti === Arabic(Arabic script)FrenchSomaliAfar\n",
      "\n",
      " Dominica === Roseau === English\n",
      "\n",
      " Dominican Republic === Santo Domingo === Spanish\n",
      "\n",
      " East Timor === Díli === TetumPortuguese\n",
      "\n",
      " Ecuador === Quito === Spanish\n",
      "\n",
      " Egypt === Cairo === Arabic(Arabic script)\n",
      "\n",
      " El Salvador === San Salvador === Spanish\n",
      "\n",
      " Equatorial Guinea === Malabo === Spanish  French  Portuguese\n",
      "\n",
      " Eritrea === Asmara === Arabic(Arabic script)Tigrinya(Ge'ez script)\n",
      "\n",
      " Estonia === Tallinn === Estonian\n",
      "\n",
      " Eswatini(formerly Swaziland) === Mbabane === EnglishSwazi\n",
      "\n",
      " Ethiopia === Addis Ababa === Amharic(Ge'ez script)\n",
      "\n",
      " Falkland Islands[2] === Stanley === English\n",
      "\n",
      " Faroe Islands[8] === Tórshavn === FaroeseDanish\n",
      "\n",
      " Fiji === Suva === EnglishFijianFiji Hindi\n",
      "\n",
      " Finland === Helsinki === FinnishSwedish\n",
      "\n",
      " France === Paris === French\n",
      "\n",
      " French Guiana[9] === Cayenne === French\n",
      "\n",
      " French Polynesia[10] === Papeete === French\n",
      "\n",
      " Gabon === Libreville === French\n",
      "\n",
      " The Gambia === Banjul === English\n",
      "\n",
      " Georgia === Tbilisi === Georgian(Georgian alphabet)\n",
      "\n",
      " Germany === Berlin === German\n",
      "\n",
      " Ghana === Accra === EnglishAkanTwiEwe\n",
      "\n",
      " Gibraltar[2] === Gibraltar === English\n",
      "\n",
      " Greece === Athens === Greek(Greek alphabet)\n",
      "\n",
      " Greenland[8] === Nuuk === GreenlandicDanish\n",
      "\n",
      " Grenada === St. George's === English\n",
      "\n",
      " Guadeloupe[9] === Basse-Terre === French\n",
      "\n",
      " Guam[1] === Hagåtñaformerly Agaña === EnglishChamorro\n",
      "\n",
      " Guatemala === Guatemala City === Spanish\n",
      "\n",
      " Guernsey[11] === Saint Peter Port === English\n",
      "\n",
      " Guinea === Conakry === FrenchManinka, SusuPular\n",
      "\n",
      " Guinea-Bissau === Bissau === Portuguese\n",
      "\n",
      " Guyana === Georgetown === English\n",
      "\n",
      " Haiti === Port-au-Prince === FrenchHaitian Creole\n",
      "\n",
      " Honduras === Tegucigalpa === Spanish\n",
      "\n",
      " Hong Kong[12] === Hong Kong === EnglishCantonese(Traditional Chinese characters)\n",
      "\n",
      " Hungary === Budapest === Hungarian\n",
      "\n",
      " Iceland === Reykjavík === Icelandic\n",
      "\n",
      " India === New Delhi === Assamese(Assamese script)Bengali(Bengali script)EnglishGujarati(Gujarāti script)Hindi(Devanagari script)Kannada(Kannada script)Konkani(Devanagari script)Malayalam(Malayalam script)Marathi(Devanagari script)Nepalese(Devanagari script)Odia(Odia script)Punjabi(Gurmukhi script)Sanskrit(Devanagari script)Tamil(Tamil script)Telugu(Telugu script)\n",
      "\n",
      " Indonesia === Jakarta === Bahasa Indonesia\n",
      "\n",
      " Iran === Tehran === Persian(Persian script)\n",
      "\n",
      " Iraq === Baghdad === Arabic(Arabic script)Kurdish\n",
      "\n",
      " Ireland === Dublin === IrishEnglish\n",
      "\n",
      " Isle of Man[11] === Douglas === EnglishManx\n",
      "\n",
      " Israel === Jerusalem (declared)[a] === Hebrew(Hebrew script)Arabic(Arabic script)\n",
      "\n",
      " Italy === Rome === Italian\n",
      "\n",
      " Jamaica === Kingston === English\n",
      "\n",
      " Japan === Tokyo === Japanese(Japanese characters)\n",
      "\n",
      " Jersey[11] === St. Helier === EnglishFrenchJèrriais\n",
      "\n",
      " Jordan === Amman === Arabic(Arabic script)\n",
      "\n",
      " Kazakhstan === Nur-Sultan === Kazakh(Cyrillic script)Russian(Cyrillic script)\n",
      "\n",
      " Kenya === Nairobi === English, Swahili\n",
      "\n",
      " Kiribati === Tarawa[13] === English, Gilbertese\n",
      "\n",
      " North Korea === Pyongyang === Korean(Hangul/Hanja)\n",
      "\n",
      " South Korea === Seoul === Korean(Hangul/Hanja)\n",
      "\n",
      " Kosovo[14] === Pristina === Albanian  Serbian (Latin)  Serbian (Cyrillic)\n",
      "\n",
      " Kuwait === Kuwait City === Arabic (Official)(Arabic script) Kuwaiti Gulf Arabic (native)(Arabic script)\n",
      "\n",
      " Kyrgyzstan === Bishkek === Kyrgyz(Cyrillic script)Russian(Cyrillic script)\n",
      "\n",
      " Laos === Vientiane === LaoLao alphabet\n",
      "\n",
      " Latvia === Riga === Latvian\n",
      "\n",
      " Lebanon === Beirut === Arabic(Arabic script)\n",
      "French\n",
      "\n",
      "\n",
      " Lesotho === Maseru === Sesotho, English\n",
      "\n",
      " Liberia === Monrovia === English\n",
      "\n",
      " Libya === Tripoli === Berber language(Tifinagh script)Arabic(Arabic script)\n",
      "\n",
      " Liechtenstein === Vaduz === German\n",
      "\n",
      " Lithuania === Vilnius === Lithuanian\n",
      "\n",
      " Luxembourg === Luxembourg === LuxembourgishGermanFrench\n",
      "\n",
      " Macau[12] === Macau === Cantonese(Traditional Chinese characters) Portuguese \n",
      "\n",
      " Madagascar === Antananarivo === MalagasyFrench\n",
      "\n",
      " Malawi === Lilongwe === English  Chichewa \n",
      "\n",
      " Malaysia === Kuala Lumpur === Malay\n",
      "\n",
      " Maldives === Malé === Dhivehi(Thaana script)\n",
      "\n",
      " Mali === Bamako === FrenchBambara\n",
      "\n",
      " Malta === Valletta === Maltese  English\n",
      "\n",
      " Marshall Islands === Majuro === English Marshallese\n",
      "\n",
      " Martinique[9] === Fort-de-France === French\n",
      "\n",
      " Mauritania === Nouakchott === Berber language(Tifinagh script)Arabic(Arabic script)\n",
      "\n",
      " Mauritius === Port Louis === EnglishFrenchMauritian Creole\n",
      "\n",
      " Mayotte[9] === Mamoudzou === FrenchShimaore\n",
      "\n",
      " Mexico === Mexico City === SpanishNahuatl\n",
      "\n",
      " Federated States of Micronesia === Palikir === English\n",
      "\n",
      " Moldova === Chișinău === Romanian\n",
      "\n",
      " Monaco === Monaco === French  Monégasque\n",
      "\n",
      " Mongolia === Ulaanbaatar === Mongolian(Cyrillic script)(Mongol script)\n",
      "\n",
      " Montenegro === Podgorica === Montenegrin\n",
      "\n",
      " Montserrat[2] === Brades Estate[15] === English\n",
      "\n",
      " Morocco === Rabat === Berber language(Tifinagh script)Arabic(Arabic script)\n",
      "\n",
      " Mozambique === Maputo === Portuguese\n",
      "\n",
      " Myanmar (or Burma) === Naypyidaw === Burmese(Burmese alphabet)\n",
      "\n",
      " Namibia === Windhoek === EnglishGermanAfrikaansDamara/NamaHerero\n",
      "\n",
      " Nauru === Yaren (de facto)[16] === EnglishNauruan\n",
      "\n",
      " Nepal === Kathmandu === NepaleseDevanagari\n",
      "\n",
      " Netherlands === Amsterdam === DutchWest Frisian\n",
      "\n",
      " New Caledonia[17] === Nouméa === French\n",
      "\n",
      " New Zealand[18] === Wellington === EnglishMāori\n",
      "\n",
      " Nicaragua === Managua === Spanish\n",
      "\n",
      " Niger === Niamey === French\n",
      "\n",
      " Nigeria === Abuja === English Hausa Igbo Yoruba\n",
      "\n",
      " Niue[7] === Alofi === NiueanEnglish\n",
      "\n",
      " Norfolk Island[6] === Kingston === English Norfuk\n",
      "\n",
      " North Macedonia === Skopje === Macedonian(Cyrillic script)Albanian\n",
      "\n",
      " Northern Mariana Islands[1] === Saipan === English Chamorro\n",
      "\n",
      " Norway === Oslo === Norwegian BokmålNorwegian NynorskNorthern SamiLule SamiSouthern Sami\n",
      "\n",
      " Oman === Muscat === Arabic(Arabic script)\n",
      "\n",
      " Pakistan === Islamabad === EnglishUrdu(Arabic script [Nastaʿlīq hand])\n",
      "\n",
      " Palau === Ngerulmud === EnglishPalauan\n",
      "\n",
      " Palestine[14] === East Jerusalem (declared)  Ramallah (administrative capital)[b] === Arabic(Arabic script)\n",
      "\n",
      " Panama === Panama City === Spanish\n",
      "\n",
      " Papua New Guinea === Port Moresby === EnglishTok PisinHiri Motu\n",
      "\n",
      " Paraguay === Asunción === SpanishGuaraní\n",
      "\n",
      " Peru === Lima === SpanishQuechua/Aymara\n",
      "\n",
      " Philippines === Manila === FilipinoEnglish\n",
      "\n",
      " Pitcairn Islands[2] === Adamstown === English Pitcairnese\n",
      "\n",
      " Poland === Warsaw === Polish\n",
      "\n",
      " Portugal === Lisbon === Portuguese\n",
      "\n",
      " Puerto Rico[1] === San Juan === English, Spanish\n",
      "\n",
      " Qatar === Doha === Arabic(Arabic script)\n",
      "\n",
      " Réunion[9] === Saint-Denis === French\n",
      "\n",
      " Romania === Bucharest === Romanian\n",
      "\n",
      " Russia === Moscow === Russian(Cyrillic script)\n",
      "\n",
      " Rwanda === Kigali === French, Kinyarwanda, Swahili, English\n",
      "\n",
      " Sahrawi Arab Democratic Republic[14] === Laayoune === Arabic(Arabic script)SpanishFrench\n",
      "\n",
      " Saint Barthélemy[10] === Gustavia === French\n",
      "\n",
      " Saint Helena, Ascension and Tristan da Cunha[2] === Jamestown === English\n",
      "\n",
      " Saint Kitts and Nevis === Basseterre === English\n",
      "\n",
      " Saint Martin[10] === Marigot === French\n",
      "\n",
      " Saint Lucia === Castries === English\n",
      "\n",
      " Saint Pierre and Miquelon[10] === Saint-Pierre === French\n",
      "\n",
      " Saint Vincent and the Grenadines === Kingstown === English\n",
      "\n",
      " Samoa === Apia === EnglishSamoan\n",
      "\n",
      " San Marino === San Marino === Italian\n",
      "\n",
      " São Tomé and Príncipe === São Tomé === Portuguese\n",
      "\n",
      " Saudi Arabia === Riyadh === Arabic(Arabic script)\n",
      "\n",
      " Senegal === Dakar === FrenchWolof\n",
      "\n",
      " Serbia === Belgrade === Serbian(Cyrillic script)\n",
      "\n",
      " Seychelles === Victoria === Seychellois CreoleFrenchEnglish\n",
      "\n",
      " Sierra Leone === Freetown === English\n",
      "\n",
      " Singapore === Singapore === MalayEnglishMandarin Chinese(Simplified Chinese characters)Tamil(Tamil script)\n",
      "\n",
      " Sint Maarten[3] === Philipsburg === DutchEnglish\n",
      "\n",
      " Slovakia === Bratislava === Slovak\n",
      "\n",
      " Slovenia === Ljubljana === Slovene\n",
      "\n",
      " Solomon Islands === Honiara === EnglishNeo-Solomonic\n",
      "\n",
      " Somalia === Mogadishu === SomaliArabic(Arabic script)\n",
      "\n",
      " South Africa === Pretoria (administrative capital), Cape Town (legislative capital), Bloemfontein, (judicial capital) === EnglishAfrikaansisiZuluisiXhosaPediSothoTswanaVendaTsongaSwaziNdebele\n",
      "\n",
      " South Sudan === Juba === English Swahili  Dinka\n",
      "\n",
      " Spain === Madrid === Spanish, GalicianCatalanBasqueAranese, Galician (R)\n",
      "\n",
      " Sri Lanka === Sri Jayawardenapura Kotte === SinhalaTamil\n",
      "\n",
      " Sudan === Khartoum === Arabic(Arabic script)\n",
      "\n",
      " Suriname === Paramaribo === Dutch\n",
      "\n",
      " Svalbard[19] === Longyearbyen === Norwegian\n",
      "\n",
      " Sweden === Stockholm === Swedish\n",
      "\n",
      " Switzerland === Bern (de facto)[16] === GermanFrenchItalianRomansh\n",
      "\n",
      " Syria === Damascus === Arabic(Arabic script)\n",
      "\n",
      " Taiwan (Republic of China)[14] === Taipei === Chinese(Traditional Chinese characters)\n",
      "\n",
      " Tajikistan === Dushanbe === Tajiki-Persian(Cyrillic)\n",
      "\n",
      " Tanzania === Dodoma === English, Swahili\n",
      "\n",
      " Thailand === Bangkok === Thai(Thai script)\n",
      "\n",
      " Togo === Lomé === French Ewe  Kabiye\n",
      "\n",
      " Tokelau[20] ===  === English, Tokelauan\n",
      "\n",
      " Tonga === Nukuʻalofa === Tongan, English\n",
      "\n",
      " Trinidad and Tobago === Port of Spain === English\n",
      "\n",
      " Tunisia === Tunis === Berber language(Tifinagh script)Arabic(Arabic script)\n",
      "\n",
      " Turkey === Ankara === Turkish\n",
      "\n",
      " Turkmenistan === Ashgabat === Turkmen\n",
      "\n",
      " Turks and Caicos Islands[2] === Cockburn Town === English\n",
      "\n",
      " Tuvalu === Fongafale (in Funafuti) === English, Tuvaluan\n",
      "\n",
      " Uganda === Kampala === English, Swahili\n",
      "\n",
      " Ukraine === Kyiv === Ukrainian(Cyrillic script)\n",
      "\n",
      " United Arab Emirates === Abu Dhabi === Arabic(Arabic script)\n",
      "\n",
      " United Kingdom === London === EnglishWelshScotsScots GaelicIrishCornish\n",
      "\n",
      " United States === Washington, D.C. === EnglishSpanishCajun FrenchIndigenousHawaiian\n",
      "\n",
      " United States Virgin Islands[1] === Charlotte Amalie === English\n",
      "\n",
      " Uruguay === Montevideo === Spanish\n",
      "\n",
      " Uzbekistan === Tashkent === Uzbek(Cyrillic script)\n",
      "\n",
      " Vanuatu === Port Vila === French\n",
      "\n",
      " Vatican City === Vatican City === LatinItalian\n",
      "\n",
      " Venezuela === Caracas === Spanish\n",
      "\n",
      " Vietnam === Hanoi === Vietnamese\n",
      "\n",
      " Wallis and Futuna[10] === Mata Utu === FrenchWallisianFutunan\n",
      "\n",
      " Yemen === Sana'a === Arabic(Arabic script)\n",
      "\n",
      " Zambia === Lusaka === English, Bemba, Chewa\n",
      "\n",
      " Zimbabwe === Harare === English, Shona\n",
      "\n"
     ]
    }
   ],
   "source": [
    "for eachTable in allTables:\n",
    "    all_rows=eachTable.find_all(\"tr\")[1:]\n",
    "    \n",
    "    for tr in all_rows:\n",
    "        all_tds= tr.find_all(\"td\")\n",
    "\n",
    "        country = all_tds[0].text\n",
    "        capital = all_tds[1].text\n",
    "        language= all_tds[-1].text\n",
    "    \n",
    "        print(country,capital,language,sep=\" === \")\n",
    "    "
   ]
  },
  {
   "cell_type": "markdown",
   "id": "bc17dd42",
   "metadata": {},
   "source": [
    "## Making A Dataframe Out of These COuntries"
   ]
  },
  {
   "cell_type": "code",
   "execution_count": 67,
   "id": "654fab58",
   "metadata": {},
   "outputs": [],
   "source": [
    "import pandas as pd"
   ]
  },
  {
   "cell_type": "code",
   "execution_count": 84,
   "id": "8fb2ef7e",
   "metadata": {},
   "outputs": [],
   "source": [
    "df= pd.DataFrame({},columns=[\"Country\", \"Capital\", \"Language\"])"
   ]
  },
  {
   "cell_type": "code",
   "execution_count": 85,
   "id": "66da3311",
   "metadata": {},
   "outputs": [
    {
     "data": {
      "text/html": [
       "<div>\n",
       "<style scoped>\n",
       "    .dataframe tbody tr th:only-of-type {\n",
       "        vertical-align: middle;\n",
       "    }\n",
       "\n",
       "    .dataframe tbody tr th {\n",
       "        vertical-align: top;\n",
       "    }\n",
       "\n",
       "    .dataframe thead th {\n",
       "        text-align: right;\n",
       "    }\n",
       "</style>\n",
       "<table border=\"1\" class=\"dataframe\">\n",
       "  <thead>\n",
       "    <tr style=\"text-align: right;\">\n",
       "      <th></th>\n",
       "      <th>Country</th>\n",
       "      <th>Capital</th>\n",
       "      <th>Language</th>\n",
       "    </tr>\n",
       "  </thead>\n",
       "  <tbody>\n",
       "  </tbody>\n",
       "</table>\n",
       "</div>"
      ],
      "text/plain": [
       "Empty DataFrame\n",
       "Columns: [Country, Capital, Language]\n",
       "Index: []"
      ]
     },
     "execution_count": 85,
     "metadata": {},
     "output_type": "execute_result"
    }
   ],
   "source": [
    "df"
   ]
  },
  {
   "cell_type": "code",
   "execution_count": 86,
   "id": "1311b078",
   "metadata": {},
   "outputs": [],
   "source": [
    "for eachTable in allTables:\n",
    "    all_rows=eachTable.find_all(\"tr\")[1:]\n",
    "    \n",
    "    for tr in all_rows:\n",
    "        all_tds= tr.find_all(\"td\")\n",
    "\n",
    "        country = all_tds[0].text\n",
    "        capital = all_tds[1].text\n",
    "        language= all_tds[-1].text\n",
    "        \n",
    "        # Appending to Dictionary\n",
    "        ele={\"Country\": country, \"Capital\": capital, \"Language\": language}\n",
    "        \n",
    "        df=df.append(ele, ignore_index=True)\n",
    "        \n",
    "#         print(country,capital,language,sep=\" === \")\n",
    "    "
   ]
  },
  {
   "cell_type": "code",
   "execution_count": 87,
   "id": "15293eb6",
   "metadata": {},
   "outputs": [
    {
     "data": {
      "text/html": [
       "<div>\n",
       "<style scoped>\n",
       "    .dataframe tbody tr th:only-of-type {\n",
       "        vertical-align: middle;\n",
       "    }\n",
       "\n",
       "    .dataframe tbody tr th {\n",
       "        vertical-align: top;\n",
       "    }\n",
       "\n",
       "    .dataframe thead th {\n",
       "        text-align: right;\n",
       "    }\n",
       "</style>\n",
       "<table border=\"1\" class=\"dataframe\">\n",
       "  <thead>\n",
       "    <tr style=\"text-align: right;\">\n",
       "      <th></th>\n",
       "      <th>Country</th>\n",
       "      <th>Capital</th>\n",
       "      <th>Language</th>\n",
       "    </tr>\n",
       "  </thead>\n",
       "  <tbody>\n",
       "    <tr>\n",
       "      <th>0</th>\n",
       "      <td>Afghanistan</td>\n",
       "      <td>Kabul</td>\n",
       "      <td>Pashto/Dari(Arabic script)\\n</td>\n",
       "    </tr>\n",
       "    <tr>\n",
       "      <th>1</th>\n",
       "      <td>Albania</td>\n",
       "      <td>Tirana</td>\n",
       "      <td>Albanian\\n</td>\n",
       "    </tr>\n",
       "    <tr>\n",
       "      <th>2</th>\n",
       "      <td>Algeria</td>\n",
       "      <td>Algiers</td>\n",
       "      <td>Berber language(Tifinagh script)Arabic(Arabic ...</td>\n",
       "    </tr>\n",
       "    <tr>\n",
       "      <th>3</th>\n",
       "      <td>American Samoa[1]</td>\n",
       "      <td>Pago Pago</td>\n",
       "      <td>SamoanEnglish\\n</td>\n",
       "    </tr>\n",
       "    <tr>\n",
       "      <th>4</th>\n",
       "      <td>Andorra</td>\n",
       "      <td>Andorra la Vella</td>\n",
       "      <td>Catalan\\n</td>\n",
       "    </tr>\n",
       "    <tr>\n",
       "      <th>...</th>\n",
       "      <td>...</td>\n",
       "      <td>...</td>\n",
       "      <td>...</td>\n",
       "    </tr>\n",
       "    <tr>\n",
       "      <th>237</th>\n",
       "      <td>Vietnam</td>\n",
       "      <td>Hanoi</td>\n",
       "      <td>Vietnamese\\n</td>\n",
       "    </tr>\n",
       "    <tr>\n",
       "      <th>238</th>\n",
       "      <td>Wallis and Futuna[10]</td>\n",
       "      <td>Mata Utu</td>\n",
       "      <td>FrenchWallisianFutunan\\n</td>\n",
       "    </tr>\n",
       "    <tr>\n",
       "      <th>239</th>\n",
       "      <td>Yemen</td>\n",
       "      <td>Sana'a</td>\n",
       "      <td>Arabic(Arabic script)\\n</td>\n",
       "    </tr>\n",
       "    <tr>\n",
       "      <th>240</th>\n",
       "      <td>Zambia</td>\n",
       "      <td>Lusaka</td>\n",
       "      <td>English, Bemba, Chewa\\n</td>\n",
       "    </tr>\n",
       "    <tr>\n",
       "      <th>241</th>\n",
       "      <td>Zimbabwe</td>\n",
       "      <td>Harare</td>\n",
       "      <td>English, Shona\\n</td>\n",
       "    </tr>\n",
       "  </tbody>\n",
       "</table>\n",
       "<p>242 rows × 3 columns</p>\n",
       "</div>"
      ],
      "text/plain": [
       "                    Country           Capital  \\\n",
       "0               Afghanistan             Kabul   \n",
       "1                   Albania            Tirana   \n",
       "2                   Algeria           Algiers   \n",
       "3         American Samoa[1]         Pago Pago   \n",
       "4                   Andorra  Andorra la Vella   \n",
       "..                      ...               ...   \n",
       "237                 Vietnam             Hanoi   \n",
       "238   Wallis and Futuna[10]          Mata Utu   \n",
       "239                   Yemen            Sana'a   \n",
       "240                  Zambia            Lusaka   \n",
       "241                Zimbabwe            Harare   \n",
       "\n",
       "                                              Language  \n",
       "0                         Pashto/Dari(Arabic script)\\n  \n",
       "1                                           Albanian\\n  \n",
       "2    Berber language(Tifinagh script)Arabic(Arabic ...  \n",
       "3                                      SamoanEnglish\\n  \n",
       "4                                            Catalan\\n  \n",
       "..                                                 ...  \n",
       "237                                       Vietnamese\\n  \n",
       "238                           FrenchWallisianFutunan\\n  \n",
       "239                            Arabic(Arabic script)\\n  \n",
       "240                            English, Bemba, Chewa\\n  \n",
       "241                                   English, Shona\\n  \n",
       "\n",
       "[242 rows x 3 columns]"
      ]
     },
     "execution_count": 87,
     "metadata": {},
     "output_type": "execute_result"
    }
   ],
   "source": [
    "df"
   ]
  },
  {
   "cell_type": "code",
   "execution_count": 88,
   "id": "d205b654",
   "metadata": {},
   "outputs": [
    {
     "data": {
      "text/plain": [
       "'\\n'"
      ]
     },
     "execution_count": 88,
     "metadata": {},
     "output_type": "execute_result"
    }
   ],
   "source": [
    "df[\"Language\"][0][-1]\n",
    "## removing this last element"
   ]
  },
  {
   "cell_type": "code",
   "execution_count": 89,
   "id": "944f3483",
   "metadata": {},
   "outputs": [],
   "source": [
    "df[\"Language\"]=df[\"Language\"].apply(lambda x: x[:-1])\n",
    "## removing this last element"
   ]
  },
  {
   "cell_type": "code",
   "execution_count": 91,
   "id": "fdffa6b9",
   "metadata": {},
   "outputs": [
    {
     "data": {
      "text/html": [
       "<div>\n",
       "<style scoped>\n",
       "    .dataframe tbody tr th:only-of-type {\n",
       "        vertical-align: middle;\n",
       "    }\n",
       "\n",
       "    .dataframe tbody tr th {\n",
       "        vertical-align: top;\n",
       "    }\n",
       "\n",
       "    .dataframe thead th {\n",
       "        text-align: right;\n",
       "    }\n",
       "</style>\n",
       "<table border=\"1\" class=\"dataframe\">\n",
       "  <thead>\n",
       "    <tr style=\"text-align: right;\">\n",
       "      <th></th>\n",
       "      <th>Country</th>\n",
       "      <th>Capital</th>\n",
       "      <th>Language</th>\n",
       "    </tr>\n",
       "  </thead>\n",
       "  <tbody>\n",
       "    <tr>\n",
       "      <th>0</th>\n",
       "      <td>Afghanistan</td>\n",
       "      <td>Kabul</td>\n",
       "      <td>Pashto/Dari(Arabic script)</td>\n",
       "    </tr>\n",
       "    <tr>\n",
       "      <th>1</th>\n",
       "      <td>Albania</td>\n",
       "      <td>Tirana</td>\n",
       "      <td>Albanian</td>\n",
       "    </tr>\n",
       "    <tr>\n",
       "      <th>2</th>\n",
       "      <td>Algeria</td>\n",
       "      <td>Algiers</td>\n",
       "      <td>Berber language(Tifinagh script)Arabic(Arabic ...</td>\n",
       "    </tr>\n",
       "    <tr>\n",
       "      <th>3</th>\n",
       "      <td>American Samoa[1]</td>\n",
       "      <td>Pago Pago</td>\n",
       "      <td>SamoanEnglish</td>\n",
       "    </tr>\n",
       "    <tr>\n",
       "      <th>4</th>\n",
       "      <td>Andorra</td>\n",
       "      <td>Andorra la Vella</td>\n",
       "      <td>Catalan</td>\n",
       "    </tr>\n",
       "    <tr>\n",
       "      <th>...</th>\n",
       "      <td>...</td>\n",
       "      <td>...</td>\n",
       "      <td>...</td>\n",
       "    </tr>\n",
       "    <tr>\n",
       "      <th>237</th>\n",
       "      <td>Vietnam</td>\n",
       "      <td>Hanoi</td>\n",
       "      <td>Vietnamese</td>\n",
       "    </tr>\n",
       "    <tr>\n",
       "      <th>238</th>\n",
       "      <td>Wallis and Futuna[10]</td>\n",
       "      <td>Mata Utu</td>\n",
       "      <td>FrenchWallisianFutunan</td>\n",
       "    </tr>\n",
       "    <tr>\n",
       "      <th>239</th>\n",
       "      <td>Yemen</td>\n",
       "      <td>Sana'a</td>\n",
       "      <td>Arabic(Arabic script)</td>\n",
       "    </tr>\n",
       "    <tr>\n",
       "      <th>240</th>\n",
       "      <td>Zambia</td>\n",
       "      <td>Lusaka</td>\n",
       "      <td>English, Bemba, Chewa</td>\n",
       "    </tr>\n",
       "    <tr>\n",
       "      <th>241</th>\n",
       "      <td>Zimbabwe</td>\n",
       "      <td>Harare</td>\n",
       "      <td>English, Shona</td>\n",
       "    </tr>\n",
       "  </tbody>\n",
       "</table>\n",
       "<p>242 rows × 3 columns</p>\n",
       "</div>"
      ],
      "text/plain": [
       "                    Country           Capital  \\\n",
       "0               Afghanistan             Kabul   \n",
       "1                   Albania            Tirana   \n",
       "2                   Algeria           Algiers   \n",
       "3         American Samoa[1]         Pago Pago   \n",
       "4                   Andorra  Andorra la Vella   \n",
       "..                      ...               ...   \n",
       "237                 Vietnam             Hanoi   \n",
       "238   Wallis and Futuna[10]          Mata Utu   \n",
       "239                   Yemen            Sana'a   \n",
       "240                  Zambia            Lusaka   \n",
       "241                Zimbabwe            Harare   \n",
       "\n",
       "                                              Language  \n",
       "0                           Pashto/Dari(Arabic script)  \n",
       "1                                             Albanian  \n",
       "2    Berber language(Tifinagh script)Arabic(Arabic ...  \n",
       "3                                        SamoanEnglish  \n",
       "4                                              Catalan  \n",
       "..                                                 ...  \n",
       "237                                         Vietnamese  \n",
       "238                             FrenchWallisianFutunan  \n",
       "239                              Arabic(Arabic script)  \n",
       "240                              English, Bemba, Chewa  \n",
       "241                                     English, Shona  \n",
       "\n",
       "[242 rows x 3 columns]"
      ]
     },
     "execution_count": 91,
     "metadata": {},
     "output_type": "execute_result"
    }
   ],
   "source": [
    "df"
   ]
  },
  {
   "cell_type": "code",
   "execution_count": 92,
   "id": "3b938b6b",
   "metadata": {},
   "outputs": [],
   "source": [
    "df.to_csv(\"countries.csv\", index=False)\n",
    "##Some Spaces?\n",
    "##Lets Clean it "
   ]
  },
  {
   "cell_type": "code",
   "execution_count": 93,
   "id": "24a2677d",
   "metadata": {},
   "outputs": [
    {
     "data": {
      "text/plain": [
       "0                 Afghanistan\n",
       "1                     Albania\n",
       "2                     Algeria\n",
       "3           American Samoa[1]\n",
       "4                     Andorra\n",
       "                ...          \n",
       "237                   Vietnam\n",
       "238     Wallis and Futuna[10]\n",
       "239                     Yemen\n",
       "240                    Zambia\n",
       "241                  Zimbabwe\n",
       "Name: Country, Length: 242, dtype: object"
      ]
     },
     "execution_count": 93,
     "metadata": {},
     "output_type": "execute_result"
    }
   ],
   "source": [
    "df[\"Country\"]"
   ]
  },
  {
   "cell_type": "code",
   "execution_count": 94,
   "id": "51efd45d",
   "metadata": {},
   "outputs": [
    {
     "data": {
      "text/plain": [
       "'American Samoa[1]'"
      ]
     },
     "execution_count": 94,
     "metadata": {},
     "output_type": "execute_result"
    }
   ],
   "source": [
    "df[\"Country\"].apply(lambda x: x.strip())[3]"
   ]
  },
  {
   "cell_type": "markdown",
   "id": "751888a4",
   "metadata": {},
   "source": [
    "## REGEX PATTERNS"
   ]
  },
  {
   "cell_type": "code",
   "execution_count": 95,
   "id": "8e6c23c8",
   "metadata": {},
   "outputs": [],
   "source": [
    "import re"
   ]
  },
  {
   "cell_type": "code",
   "execution_count": 97,
   "id": "ad46692c",
   "metadata": {},
   "outputs": [],
   "source": [
    "s=\"hello[3]\""
   ]
  },
  {
   "cell_type": "code",
   "execution_count": 98,
   "id": "5d0269eb",
   "metadata": {},
   "outputs": [
    {
     "data": {
      "text/plain": [
       "'hello'"
      ]
     },
     "execution_count": 98,
     "metadata": {},
     "output_type": "execute_result"
    }
   ],
   "source": [
    "re.sub(\"\\[.*\\]\",\"\" , s)"
   ]
  },
  {
   "cell_type": "code",
   "execution_count": 104,
   "id": "3a9b63c1",
   "metadata": {},
   "outputs": [],
   "source": [
    "df[\"Country\"]= df[\"Country\"].apply(lambda x: re.sub(\"\\[.*\\]\",\"\" , x.strip()))"
   ]
  },
  {
   "cell_type": "code",
   "execution_count": 105,
   "id": "64746e44",
   "metadata": {},
   "outputs": [],
   "source": [
    "df.to_csv(\"countries.csv\", index=False)"
   ]
  },
  {
   "cell_type": "code",
   "execution_count": 107,
   "id": "f68e6d7e",
   "metadata": {},
   "outputs": [],
   "source": [
    "##READING CSV DATA\n",
    "countriesDF=pd.read_csv(\"countries.csv\")"
   ]
  },
  {
   "cell_type": "code",
   "execution_count": 108,
   "id": "763c480c",
   "metadata": {},
   "outputs": [
    {
     "data": {
      "text/html": [
       "<div>\n",
       "<style scoped>\n",
       "    .dataframe tbody tr th:only-of-type {\n",
       "        vertical-align: middle;\n",
       "    }\n",
       "\n",
       "    .dataframe tbody tr th {\n",
       "        vertical-align: top;\n",
       "    }\n",
       "\n",
       "    .dataframe thead th {\n",
       "        text-align: right;\n",
       "    }\n",
       "</style>\n",
       "<table border=\"1\" class=\"dataframe\">\n",
       "  <thead>\n",
       "    <tr style=\"text-align: right;\">\n",
       "      <th></th>\n",
       "      <th>Country</th>\n",
       "      <th>Capital</th>\n",
       "      <th>Language</th>\n",
       "    </tr>\n",
       "  </thead>\n",
       "  <tbody>\n",
       "    <tr>\n",
       "      <th>0</th>\n",
       "      <td>Afghanistan</td>\n",
       "      <td>Kabul</td>\n",
       "      <td>Pashto/Dari(Arabic script)</td>\n",
       "    </tr>\n",
       "    <tr>\n",
       "      <th>1</th>\n",
       "      <td>Albania</td>\n",
       "      <td>Tirana</td>\n",
       "      <td>Albanian</td>\n",
       "    </tr>\n",
       "    <tr>\n",
       "      <th>2</th>\n",
       "      <td>Algeria</td>\n",
       "      <td>Algiers</td>\n",
       "      <td>Berber language(Tifinagh script)Arabic(Arabic ...</td>\n",
       "    </tr>\n",
       "    <tr>\n",
       "      <th>3</th>\n",
       "      <td>American Samoa</td>\n",
       "      <td>Pago Pago</td>\n",
       "      <td>SamoanEnglish</td>\n",
       "    </tr>\n",
       "    <tr>\n",
       "      <th>4</th>\n",
       "      <td>Andorra</td>\n",
       "      <td>Andorra la Vella</td>\n",
       "      <td>Catalan</td>\n",
       "    </tr>\n",
       "    <tr>\n",
       "      <th>...</th>\n",
       "      <td>...</td>\n",
       "      <td>...</td>\n",
       "      <td>...</td>\n",
       "    </tr>\n",
       "    <tr>\n",
       "      <th>237</th>\n",
       "      <td>Vietnam</td>\n",
       "      <td>Hanoi</td>\n",
       "      <td>Vietnamese</td>\n",
       "    </tr>\n",
       "    <tr>\n",
       "      <th>238</th>\n",
       "      <td>Wallis and Futuna</td>\n",
       "      <td>Mata Utu</td>\n",
       "      <td>FrenchWallisianFutunan</td>\n",
       "    </tr>\n",
       "    <tr>\n",
       "      <th>239</th>\n",
       "      <td>Yemen</td>\n",
       "      <td>Sana'a</td>\n",
       "      <td>Arabic(Arabic script)</td>\n",
       "    </tr>\n",
       "    <tr>\n",
       "      <th>240</th>\n",
       "      <td>Zambia</td>\n",
       "      <td>Lusaka</td>\n",
       "      <td>English, Bemba, Chewa</td>\n",
       "    </tr>\n",
       "    <tr>\n",
       "      <th>241</th>\n",
       "      <td>Zimbabwe</td>\n",
       "      <td>Harare</td>\n",
       "      <td>English, Shona</td>\n",
       "    </tr>\n",
       "  </tbody>\n",
       "</table>\n",
       "<p>242 rows × 3 columns</p>\n",
       "</div>"
      ],
      "text/plain": [
       "               Country           Capital  \\\n",
       "0          Afghanistan             Kabul   \n",
       "1              Albania            Tirana   \n",
       "2              Algeria           Algiers   \n",
       "3       American Samoa         Pago Pago   \n",
       "4              Andorra  Andorra la Vella   \n",
       "..                 ...               ...   \n",
       "237            Vietnam             Hanoi   \n",
       "238  Wallis and Futuna          Mata Utu   \n",
       "239              Yemen            Sana'a   \n",
       "240             Zambia            Lusaka   \n",
       "241           Zimbabwe            Harare   \n",
       "\n",
       "                                              Language  \n",
       "0                           Pashto/Dari(Arabic script)  \n",
       "1                                             Albanian  \n",
       "2    Berber language(Tifinagh script)Arabic(Arabic ...  \n",
       "3                                        SamoanEnglish  \n",
       "4                                              Catalan  \n",
       "..                                                 ...  \n",
       "237                                         Vietnamese  \n",
       "238                             FrenchWallisianFutunan  \n",
       "239                              Arabic(Arabic script)  \n",
       "240                              English, Bemba, Chewa  \n",
       "241                                     English, Shona  \n",
       "\n",
       "[242 rows x 3 columns]"
      ]
     },
     "execution_count": 108,
     "metadata": {},
     "output_type": "execute_result"
    }
   ],
   "source": [
    "countriesDF"
   ]
  },
  {
   "cell_type": "code",
   "execution_count": null,
   "id": "589b817e",
   "metadata": {},
   "outputs": [],
   "source": []
  }
 ],
 "metadata": {
  "kernelspec": {
   "display_name": "Python 3",
   "language": "python",
   "name": "python3"
  },
  "language_info": {
   "codemirror_mode": {
    "name": "ipython",
    "version": 3
   },
   "file_extension": ".py",
   "mimetype": "text/x-python",
   "name": "python",
   "nbconvert_exporter": "python",
   "pygments_lexer": "ipython3",
   "version": "3.8.8"
  }
 },
 "nbformat": 4,
 "nbformat_minor": 5
}
