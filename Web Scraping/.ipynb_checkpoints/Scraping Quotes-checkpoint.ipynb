{
 "cells": [
  {
   "cell_type": "markdown",
   "id": "173220e5",
   "metadata": {},
   "source": [
    "# Scraping Quotes"
   ]
  },
  {
   "cell_type": "code",
   "execution_count": 3,
   "id": "8d1e05d0",
   "metadata": {},
   "outputs": [],
   "source": [
    "import requests\n",
    "import bs4\n",
    "import pandas as pd \n",
    "import re"
   ]
  },
  {
   "cell_type": "code",
   "execution_count": 6,
   "id": "b275a53f",
   "metadata": {},
   "outputs": [],
   "source": [
    "url=\"https://www.passiton.com/inspirational-quotes\"\n",
    "res=requests.get(url)\n",
    "res.status_code\n",
    "data=res.content"
   ]
  },
  {
   "cell_type": "code",
   "execution_count": 7,
   "id": "d72d5a32",
   "metadata": {},
   "outputs": [],
   "source": [
    "soup= bs4.BeautifulSoup(data,\"html.parser\")"
   ]
  },
  {
   "cell_type": "code",
   "execution_count": 12,
   "id": "b425075e",
   "metadata": {},
   "outputs": [
    {
     "data": {
      "text/plain": [
       "36"
      ]
     },
     "execution_count": 12,
     "metadata": {},
     "output_type": "execute_result"
    }
   ],
   "source": [
    "all_images=soup.find_all(\"img\")\n",
    "len(all_images)"
   ]
  },
  {
   "cell_type": "code",
   "execution_count": 14,
   "id": "5a340f46",
   "metadata": {},
   "outputs": [],
   "source": [
    "box=soup.find(\"div\",attrs={\"id\":\"all_quotes\"})"
   ]
  },
  {
   "cell_type": "code",
   "execution_count": 20,
   "id": "5d95287c",
   "metadata": {},
   "outputs": [
    {
     "data": {
      "text/plain": [
       "32"
      ]
     },
     "execution_count": 20,
     "metadata": {},
     "output_type": "execute_result"
    }
   ],
   "source": [
    "quotes= box.find_all(\"img\")\n",
    "len(quotes)"
   ]
  },
  {
   "cell_type": "code",
   "execution_count": 22,
   "id": "b8e39b66",
   "metadata": {},
   "outputs": [
    {
     "data": {
      "text/plain": [
       "'https://assets.passiton.com/quotes/quote_artwork/8287/medium/20211217_friday_quote.jpg?1639166550'"
      ]
     },
     "execution_count": 22,
     "metadata": {},
     "output_type": "execute_result"
    }
   ],
   "source": [
    "img_url=quotes[0].attrs['src']\n",
    "img_url"
   ]
  },
  {
   "cell_type": "code",
   "execution_count": 24,
   "id": "a8d78c26",
   "metadata": {},
   "outputs": [
    {
     "data": {
      "text/plain": [
       "200"
      ]
     },
     "execution_count": 24,
     "metadata": {},
     "output_type": "execute_result"
    }
   ],
   "source": [
    "res=requests.get(img_url)\n",
    "res.status_code\n"
   ]
  },
  {
   "cell_type": "code",
   "execution_count": 25,
   "id": "fe5c2e69",
   "metadata": {},
   "outputs": [],
   "source": [
    "with open(\"testimage.jpg\",\"wb\") as f:\n",
    "    f.write(res.content)"
   ]
  },
  {
   "cell_type": "code",
   "execution_count": 27,
   "id": "e3a3277a",
   "metadata": {},
   "outputs": [],
   "source": [
    "## Now try COmbining it for all Images"
   ]
  },
  {
   "cell_type": "code",
   "execution_count": 34,
   "id": "7b363fa0",
   "metadata": {},
   "outputs": [],
   "source": [
    "for idx, each_quote in enumerate(quotes):\n",
    "    img_url= each_quote.attrs['src']\n",
    "    \n",
    "    res=requests.get(img_url)\n",
    "    \n",
    "    if(res.status_code == 200):\n",
    "        with open(f\"images/quote#{idx}.jpg\",\"wb\") as f:\n",
    "            f.write(res.content)\n",
    "            \n",
    "        \n",
    "    "
   ]
  },
  {
   "cell_type": "code",
   "execution_count": null,
   "id": "ced9f93a",
   "metadata": {},
   "outputs": [],
   "source": []
  }
 ],
 "metadata": {
  "kernelspec": {
   "display_name": "Python 3",
   "language": "python",
   "name": "python3"
  },
  "language_info": {
   "codemirror_mode": {
    "name": "ipython",
    "version": 3
   },
   "file_extension": ".py",
   "mimetype": "text/x-python",
   "name": "python",
   "nbconvert_exporter": "python",
   "pygments_lexer": "ipython3",
   "version": "3.8.8"
  }
 },
 "nbformat": 4,
 "nbformat_minor": 5
}
